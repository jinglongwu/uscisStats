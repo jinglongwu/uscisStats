{
 "cells": [
  {
   "cell_type": "code",
   "execution_count": 5,
   "metadata": {},
   "outputs": [
    {
     "data": {
      "text/plain": [
       "<Task pending name='Task-4' coro=<main() running at <ipython-input-5-3a78889d3ef0>:32>>"
      ]
     },
     "execution_count": 5,
     "metadata": {},
     "output_type": "execute_result"
    },
    {
     "name": "stdout",
     "output_type": "stream",
     "text": [
      "processing No.3600\n",
      "3756\n",
      "3756\n",
      "processing No.3612\n",
      "3768\n",
      "3768\n",
      "processing No.3624\n",
      "3780\n",
      "3780\n",
      "3792\n",
      "processing No.3636\n",
      "3792\n"
     ]
    }
   ],
   "source": [
    "import asyncio\n",
    "import concurrent.futures\n",
    "import requests\n",
    "import matplotlib.pyplot as plt\n",
    "\n",
    "RECEIPT_NUMBER_BASE = \"EAC209011\"\n",
    "RANGE_START = 3600\n",
    "RANGE_END = 4800\n",
    "CASE_TYPE = 'I-765'\n",
    "CONCURRENCY_LEVEL = 12\n",
    "\n",
    "\n",
    "def check_status(receipt_num):\n",
    "    #print(receipt_num)\n",
    "    pload = {\"appReceiptNum\": receipt_num, \"initCaseSearch\":\"CHECK STATUS\"}\n",
    "    r = requests.post('https://egov.uscis.gov/casestatus/mycasestatus.do', data=pload)\n",
    "    response = r.text.split(\"\\n\")\n",
    "    if CASE_TYPE in response[733]:\n",
    "        return (receipt_num, response[719].strip())\n",
    "    else:\n",
    "        return None\n",
    "\n",
    "\n",
    "def save_plot(status_list):\n",
    "    x, y = zip(*status_list)\n",
    "    plt.scatter(x, y)\n",
    "    plt.show()\n",
    "    plt.savefig('UscisStats.png', bbox_inches='tight')\n",
    "\n",
    "status_list = []\n",
    "\n",
    "async def main():\n",
    "    num_digits = len(str(RANGE_END))\n",
    "\n",
    "    loop = asyncio.get_event_loop()\n",
    "    i = RANGE_START\n",
    "    while i < RANGE_END:\n",
    "        print(\"processing No.\"+str(i))\n",
    "        with concurrent.futures.ThreadPoolExecutor(max_workers=CONCURRENCY_LEVEL) as executor:\n",
    "            loop = asyncio.get_event_loop()\n",
    "            futures = [\n",
    "                loop.run_in_executor(\n",
    "                    executor,\n",
    "                    check_status,\n",
    "                    RECEIPT_NUMBER_BASE + str(i+x).zfill(num_digits)\n",
    "                )\n",
    "                for x in range(CONCURRENCY_LEVEL)\n",
    "            ]\n",
    "            for t in await asyncio.gather(*futures):\n",
    "                if t is not None:\n",
    "                    status_list.append(t)\n",
    "\n",
    "        i = i+CONCURRENCY_LEVEL if i + CONCURRENCY_LEVEL <= RANGE_END else RANGE_END\n",
    "\n",
    "    save_plot(status_list)\n",
    "\n",
    "\n",
    "loop = asyncio.get_event_loop()\n",
    "loop.create_task(main())"
   ]
  },
  {
   "cell_type": "code",
   "execution_count": null,
   "metadata": {},
   "outputs": [],
   "source": []
  }
 ],
 "metadata": {
  "kernelspec": {
   "display_name": "Python 3",
   "language": "python",
   "name": "python3"
  },
  "language_info": {
   "codemirror_mode": {
    "name": "ipython",
    "version": 3
   },
   "file_extension": ".py",
   "mimetype": "text/x-python",
   "name": "python",
   "nbconvert_exporter": "python",
   "pygments_lexer": "ipython3",
   "version": "3.8.5"
  }
 },
 "nbformat": 4,
 "nbformat_minor": 4
}
